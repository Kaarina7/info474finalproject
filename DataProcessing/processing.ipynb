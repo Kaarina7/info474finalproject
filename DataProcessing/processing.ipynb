{
 "cells": [
  {
   "cell_type": "code",
   "execution_count": 5,
   "id": "211c0c26",
   "metadata": {
    "scrolled": true
   },
   "outputs": [],
   "source": [
    "import pandas as pd"
   ]
  },
  {
   "cell_type": "code",
   "execution_count": 3,
   "id": "cccc1332",
   "metadata": {},
   "outputs": [
    {
     "name": "stdout",
     "output_type": "stream",
     "text": [
      "Collecting pandas\n",
      "  Downloading pandas-2.0.2-cp38-cp38-manylinux_2_17_x86_64.manylinux2014_x86_64.whl (12.3 MB)\n",
      "\u001b[K     |████████████████████████████████| 12.3 MB 1.5 MB/s eta 0:00:01\n",
      "\u001b[?25hRequirement already satisfied: numpy>=1.20.3; python_version < \"3.10\" in /home/kaarina/.local/lib/python3.8/site-packages (from pandas) (1.22.3)\n",
      "Collecting pytz>=2020.1\n",
      "  Downloading pytz-2023.3-py2.py3-none-any.whl (502 kB)\n",
      "\u001b[K     |████████████████████████████████| 502 kB 66.9 MB/s eta 0:00:01\n",
      "\u001b[?25hCollecting tzdata>=2022.1\n",
      "  Downloading tzdata-2023.3-py2.py3-none-any.whl (341 kB)\n",
      "\u001b[K     |████████████████████████████████| 341 kB 53.8 MB/s eta 0:00:01\n",
      "\u001b[?25hCollecting python-dateutil>=2.8.2\n",
      "  Downloading python_dateutil-2.8.2-py2.py3-none-any.whl (247 kB)\n",
      "\u001b[K     |████████████████████████████████| 247 kB 54.2 MB/s eta 0:00:01\n",
      "\u001b[?25hRequirement already satisfied: six>=1.5 in /usr/lib/python3/dist-packages (from python-dateutil>=2.8.2->pandas) (1.14.0)\n",
      "Installing collected packages: pytz, tzdata, python-dateutil, pandas\n",
      "Successfully installed pandas-2.0.2 python-dateutil-2.8.2 pytz-2023.3 tzdata-2023.3\n",
      "Note: you may need to restart the kernel to use updated packages.\n"
     ]
    }
   ],
   "source": [
    "pip install pandas"
   ]
  },
  {
   "cell_type": "code",
   "execution_count": 8,
   "id": "28c41beb",
   "metadata": {},
   "outputs": [],
   "source": [
    "# load data\n",
    "\n",
    "clt = pd.read_csv('CLT.csv', sep = ',')\n",
    "cqt = pd.read_csv('CQT.csv', sep = ',')\n",
    "ind = pd.read_csv('IND.csv', sep = ',')\n",
    "jax = pd.read_csv('JAX.csv', sep = ',')\n",
    "mdw = pd.read_csv('MDW.csv', sep = ',')\n",
    "phl = pd.read_csv('PHL.csv', sep = ',')\n",
    "phx = pd.read_csv('PHX.csv', sep = ',')"
   ]
  },
  {
   "cell_type": "code",
   "execution_count": 16,
   "id": "2280c207",
   "metadata": {},
   "outputs": [],
   "source": [
    "# add city & state information to each csv\n",
    "\n",
    "# CLT -> Charlotte, North Carolina\n",
    "# CQT -> Los Angeles, California\n",
    "# IND -> Indianapolis, Indiana\n",
    "# JAX -> Jacksonville, Florida\n",
    "# MDW -> Chicago, Illinois\n",
    "# PHL -> Philadelphia, Pennsylvania\n",
    "# PHX -> Phoenix, Arizona\n",
    "\n",
    "clt['city'] = 'Charlotte'\n",
    "clt['state'] = 'North Carolina'\n",
    "clt['shortcode'] = 'CLT'\n",
    "\n",
    "cqt['city'] = 'Los Angeles'\n",
    "cqt['state'] = 'California'\n",
    "cqt['shortcode'] = 'CQT'\n",
    "\n",
    "ind['city'] = 'Indianapolis'\n",
    "ind['state'] = 'Indiana'\n",
    "ind['shortcode'] = 'IND'\n",
    "\n",
    "jax['city'] = 'Jacksonville'\n",
    "jax['state'] = 'Florida'\n",
    "jax['shortcode'] = 'JAX'\n",
    "\n",
    "mdw['city'] = 'Chicago'\n",
    "mdw['state'] = 'Illinois'\n",
    "mdw['shortcode'] = 'MDW'\n",
    "\n",
    "phl['city'] = 'Philadelphia'\n",
    "phl['state'] = 'Pennsylvania'\n",
    "phl['shortcode'] = 'PHL'\n",
    "\n",
    "phx['city'] = 'Phoenix'\n",
    "phx['state'] = 'Arizona'\n",
    "phx['shortcode'] = 'PHX'"
   ]
  },
  {
   "cell_type": "code",
   "execution_count": 19,
   "id": "9c37989f",
   "metadata": {},
   "outputs": [],
   "source": [
    "# vertically join all of the dataframes together\n",
    "final = pd.concat([clt, cqt, ind, jax, mdw, phl, phx])"
   ]
  },
  {
   "cell_type": "code",
   "execution_count": 21,
   "id": "13cbdd3d",
   "metadata": {},
   "outputs": [],
   "source": [
    "# export df to csv\n",
    "final.to_csv('final.csv', index=False)"
   ]
  },
  {
   "cell_type": "code",
   "execution_count": null,
   "id": "df502301",
   "metadata": {},
   "outputs": [],
   "source": []
  }
 ],
 "metadata": {
  "kernelspec": {
   "display_name": "Python 3 (ipykernel)",
   "language": "python",
   "name": "python3"
  },
  "language_info": {
   "codemirror_mode": {
    "name": "ipython",
    "version": 3
   },
   "file_extension": ".py",
   "mimetype": "text/x-python",
   "name": "python",
   "nbconvert_exporter": "python",
   "pygments_lexer": "ipython3",
   "version": "3.8.10"
  }
 },
 "nbformat": 4,
 "nbformat_minor": 5
}
