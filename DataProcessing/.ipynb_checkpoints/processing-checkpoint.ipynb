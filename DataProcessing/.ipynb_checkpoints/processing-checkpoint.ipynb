{
 "cells": [
  {
   "cell_type": "code",
   "execution_count": 1,
   "id": "211c0c26",
   "metadata": {
    "scrolled": true
   },
   "outputs": [],
   "source": [
    "import pandas as pd\n",
    "import calendar"
   ]
  },
  {
   "cell_type": "code",
   "execution_count": 2,
   "id": "cccc1332",
   "metadata": {},
   "outputs": [
    {
     "name": "stdout",
     "output_type": "stream",
     "text": [
      "Requirement already satisfied: pandas in /home/kaarina/.local/lib/python3.8/site-packages (2.0.2)\n",
      "Requirement already satisfied: numpy>=1.20.3; python_version < \"3.10\" in /home/kaarina/.local/lib/python3.8/site-packages (from pandas) (1.22.3)\n",
      "Requirement already satisfied: python-dateutil>=2.8.2 in /home/kaarina/.local/lib/python3.8/site-packages (from pandas) (2.8.2)\n",
      "Requirement already satisfied: tzdata>=2022.1 in /home/kaarina/.local/lib/python3.8/site-packages (from pandas) (2023.3)\n",
      "Requirement already satisfied: pytz>=2020.1 in /home/kaarina/.local/lib/python3.8/site-packages (from pandas) (2023.3)\n",
      "Requirement already satisfied: six>=1.5 in /usr/lib/python3/dist-packages (from python-dateutil>=2.8.2->pandas) (1.14.0)\n",
      "Note: you may need to restart the kernel to use updated packages.\n"
     ]
    }
   ],
   "source": [
    "pip install pandas"
   ]
  },
  {
   "cell_type": "code",
   "execution_count": 10,
   "id": "28c41beb",
   "metadata": {},
   "outputs": [],
   "source": [
    "# load data\n",
    "\n",
    "clt = pd.read_csv('CLT.csv', sep = ',')\n",
    "cqt = pd.read_csv('CQT.csv', sep = ',')\n",
    "ind = pd.read_csv('IND.csv', sep = ',')\n",
    "jax = pd.read_csv('JAX.csv', sep = ',')\n",
    "mdw = pd.read_csv('MDW.csv', sep = ',')\n",
    "phl = pd.read_csv('PHL.csv', sep = ',')\n",
    "phx = pd.read_csv('PHX.csv', sep = ',')"
   ]
  },
  {
   "cell_type": "code",
   "execution_count": 11,
   "id": "04faa637",
   "metadata": {},
   "outputs": [],
   "source": [
    "# create month_num and year columns for each dataframe\n",
    "clt['month_num'] = clt['date'].str.slice(5, 6)\n",
    "clt['year'] = clt['date'].str.slice(0, 4)\n",
    "\n",
    "cqt['month_num'] = clt['date'].str.slice(5, 6)\n",
    "cqt['year'] = clt['date'].str.slice(0, 4)\n",
    "\n",
    "ind['month_num'] = clt['date'].str.slice(5, 6)\n",
    "ind['year'] = clt['date'].str.slice(0, 4)\n",
    "\n",
    "jax['month_num'] = clt['date'].str.slice(5, 6)\n",
    "jax['year'] = clt['date'].str.slice(0, 4)\n",
    "\n",
    "mdw['month_num'] = clt['date'].str.slice(5, 6)\n",
    "mdw['year'] = clt['date'].str.slice(0, 4)\n",
    "\n",
    "phl['month_num'] = clt['date'].str.slice(5, 6)\n",
    "phl['year'] = clt['date'].str.slice(0, 4)\n",
    "\n",
    "phx['month_num'] = clt['date'].str.slice(5, 6)\n",
    "phx['year'] = clt['date'].str.slice(0, 4)"
   ]
  },
  {
   "cell_type": "code",
   "execution_count": 12,
   "id": "875af320",
   "metadata": {},
   "outputs": [],
   "source": [
    "# add month name column to each df\n",
    "month_mapping = {'month_num': ['1', '2', '3', '4', '5', '6', '7', '8', '9', '10', '11', '12'],\n",
    "        'month_name': ['January', 'February', 'March', 'April', 'May', 'June', 'July', 'August', 'September',\n",
    "                      'October', 'November', 'December']}\n",
    "\n",
    "mm_df = pd.DataFrame(month_mapping)\n",
    "\n",
    "clt = pd.merge(clt, mm_df, on='month_num')\n",
    "cqt = pd.merge(cqt, mm_df, on='month_num')\n",
    "ind = pd.merge(ind, mm_df, on='month_num')\n",
    "jax = pd.merge(jax, mm_df, on='month_num')\n",
    "mdw = pd.merge(mdw, mm_df, on='month_num')\n",
    "phl = pd.merge(phl, mm_df, on='month_num')\n",
    "phx = pd.merge(phx, mm_df, on='month_num')"
   ]
  },
  {
   "cell_type": "code",
   "execution_count": 13,
   "id": "9d654fbf",
   "metadata": {},
   "outputs": [],
   "source": [
    "# remove record_year columns before aggregation\n",
    "clt = clt.drop(columns=['record_max_temp_year', 'record_min_temp_year', 'date'])\n",
    "\n",
    "cqt = cqt.drop(columns=['record_max_temp_year', 'record_min_temp_year', 'date'])\n",
    "\n",
    "ind = ind.drop(columns=['record_max_temp_year', 'record_min_temp_year', 'date'])\n",
    "\n",
    "jax = jax.drop(columns=['record_max_temp_year', 'record_min_temp_year', 'date'])\n",
    "\n",
    "mdw = mdw.drop(columns=['record_max_temp_year', 'record_min_temp_year', 'date'])\n",
    "\n",
    "phl = phl.drop(columns=['record_max_temp_year', 'record_min_temp_year', 'date'])\n",
    "\n",
    "phx = phx.drop(columns=['record_max_temp_year', 'record_min_temp_year', 'date'])"
   ]
  },
  {
   "cell_type": "code",
   "execution_count": 15,
   "id": "59ac4649",
   "metadata": {},
   "outputs": [],
   "source": [
    "# aggregate each df based on year, month_num\n",
    "\n",
    "# aggregation for columns should go as follows:\n",
    "# mean: actual_mean_temp, actual_min_temp, actual_max_temp, average_min_temp, average_max_temp\n",
    "# min: record_min_temp\n",
    "# max: record_max_temp, record_precipitation\n",
    "# sum: actual_precipitation, average_precipitation\n",
    "clt_grouped = clt.groupby(['year', 'month_num', 'month_name'], as_index=False).agg({\n",
    "    'actual_mean_temp': 'mean', 'actual_min_temp': 'mean', 'actual_max_temp': 'mean',\n",
    "    'average_min_temp': 'mean', 'average_max_temp': 'mean', 'record_min_temp': 'min',\n",
    "    'record_max_temp': 'max', 'record_precipitation': 'max', 'actual_precipitation': 'sum',\n",
    "    'average_precipitation': 'sum'\n",
    "})\n",
    "cqt_grouped = cqt.groupby(['year', 'month_num', 'month_name'], as_index=False).agg({\n",
    "    'actual_mean_temp': 'mean', 'actual_min_temp': 'mean', 'actual_max_temp': 'mean',\n",
    "    'average_min_temp': 'mean', 'average_max_temp': 'mean', 'record_min_temp': 'min',\n",
    "    'record_max_temp': 'max', 'record_precipitation': 'max', 'actual_precipitation': 'sum',\n",
    "    'average_precipitation': 'sum'\n",
    "})\n",
    "ind_grouped = ind.groupby(['year', 'month_num', 'month_name'], as_index=False).agg({\n",
    "    'actual_mean_temp': 'mean', 'actual_min_temp': 'mean', 'actual_max_temp': 'mean',\n",
    "    'average_min_temp': 'mean', 'average_max_temp': 'mean', 'record_min_temp': 'min',\n",
    "    'record_max_temp': 'max', 'record_precipitation': 'max', 'actual_precipitation': 'sum',\n",
    "    'average_precipitation': 'sum'\n",
    "})\n",
    "jax_grouped = jax.groupby(['year', 'month_num', 'month_name'], as_index=False).agg({\n",
    "    'actual_mean_temp': 'mean', 'actual_min_temp': 'mean', 'actual_max_temp': 'mean',\n",
    "    'average_min_temp': 'mean', 'average_max_temp': 'mean', 'record_min_temp': 'min',\n",
    "    'record_max_temp': 'max', 'record_precipitation': 'max', 'actual_precipitation': 'sum',\n",
    "    'average_precipitation': 'sum'\n",
    "})\n",
    "mdw_grouped = mdw.groupby(['year', 'month_num', 'month_name'], as_index=False).agg({\n",
    "    'actual_mean_temp': 'mean', 'actual_min_temp': 'mean', 'actual_max_temp': 'mean',\n",
    "    'average_min_temp': 'mean', 'average_max_temp': 'mean', 'record_min_temp': 'min',\n",
    "    'record_max_temp': 'max', 'record_precipitation': 'max', 'actual_precipitation': 'sum',\n",
    "    'average_precipitation': 'sum'\n",
    "})\n",
    "phl_grouped = phl.groupby(['year', 'month_num', 'month_name'], as_index=False).agg({\n",
    "    'actual_mean_temp': 'mean', 'actual_min_temp': 'mean', 'actual_max_temp': 'mean',\n",
    "    'average_min_temp': 'mean', 'average_max_temp': 'mean', 'record_min_temp': 'min',\n",
    "    'record_max_temp': 'max', 'record_precipitation': 'max', 'actual_precipitation': 'sum',\n",
    "    'average_precipitation': 'sum'\n",
    "})\n",
    "phx_grouped = phx.groupby(['year', 'month_num', 'month_name'], as_index=False).agg({\n",
    "    'actual_mean_temp': 'mean', 'actual_min_temp': 'mean', 'actual_max_temp': 'mean',\n",
    "    'average_min_temp': 'mean', 'average_max_temp': 'mean', 'record_min_temp': 'min',\n",
    "    'record_max_temp': 'max', 'record_precipitation': 'max', 'actual_precipitation': 'sum',\n",
    "    'average_precipitation': 'sum'\n",
    "})"
   ]
  },
  {
   "cell_type": "code",
   "execution_count": 16,
   "id": "2280c207",
   "metadata": {},
   "outputs": [],
   "source": [
    "# add city & state information to each csv\n",
    "\n",
    "# CLT -> Charlotte, North Carolina\n",
    "# CQT -> Los Angeles, California\n",
    "# IND -> Indianapolis, Indiana\n",
    "# JAX -> Jacksonville, Florida\n",
    "# MDW -> Chicago, Illinois\n",
    "# PHL -> Philadelphia, Pennsylvania\n",
    "# PHX -> Phoenix, Arizona\n",
    "\n",
    "clt_grouped['city'] = 'Charlotte'\n",
    "clt_grouped['state'] = 'North Carolina'\n",
    "clt_grouped['shortcode'] = 'CLT'\n",
    "\n",
    "cqt_grouped['city'] = 'Los Angeles'\n",
    "cqt_grouped['state'] = 'California'\n",
    "cqt_grouped['shortcode'] = 'CQT'\n",
    "\n",
    "ind_grouped['city'] = 'Indianapolis'\n",
    "ind_grouped['state'] = 'Indiana'\n",
    "ind_grouped['shortcode'] = 'IND'\n",
    "\n",
    "jax_grouped['city'] = 'Jacksonville'\n",
    "jax_grouped['state'] = 'Florida'\n",
    "jax_grouped['shortcode'] = 'JAX'\n",
    "\n",
    "mdw_grouped['city'] = 'Chicago'\n",
    "mdw_grouped['state'] = 'Illinois'\n",
    "mdw_grouped['shortcode'] = 'MDW'\n",
    "\n",
    "phl_grouped['city'] = 'Philadelphia'\n",
    "phl_grouped['state'] = 'Pennsylvania'\n",
    "phl_grouped['shortcode'] = 'PHL'\n",
    "\n",
    "phx_grouped['city'] = 'Phoenix'\n",
    "phx_grouped['state'] = 'Arizona'\n",
    "phx_grouped['shortcode'] = 'PHX'"
   ]
  },
  {
   "cell_type": "code",
   "execution_count": 17,
   "id": "9c37989f",
   "metadata": {},
   "outputs": [],
   "source": [
    "# vertically join all of the dataframes together\n",
    "final = pd.concat([clt_grouped, cqt_grouped, ind_grouped, jax_grouped, mdw_grouped, phl_grouped, phx_grouped])"
   ]
  },
  {
   "cell_type": "code",
   "execution_count": 18,
   "id": "13cbdd3d",
   "metadata": {},
   "outputs": [],
   "source": [
    "# export df to csv\n",
    "final.to_csv('final.csv', index=False)"
   ]
  }
 ],
 "metadata": {
  "kernelspec": {
   "display_name": "Python 3 (ipykernel)",
   "language": "python",
   "name": "python3"
  },
  "language_info": {
   "codemirror_mode": {
    "name": "ipython",
    "version": 3
   },
   "file_extension": ".py",
   "mimetype": "text/x-python",
   "name": "python",
   "nbconvert_exporter": "python",
   "pygments_lexer": "ipython3",
   "version": "3.8.10"
  }
 },
 "nbformat": 4,
 "nbformat_minor": 5
}
